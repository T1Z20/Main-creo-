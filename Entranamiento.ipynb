{
 "cells": [
  {
   "cell_type": "code",
   "execution_count": 1,
   "metadata": {},
   "outputs": [],
   "source": [
    "import os\n",
    "import numpy as np \n",
    "import time\n",
    "import torch\n",
    "import torch.nn as nn \n",
    "import torch.optim as optim \n",
    "from torch.utils.data import DataLoader \n",
    "from chess import pgn \n",
    "from tqdm import tqdm \n"
   ]
  },
  {
   "cell_type": "code",
   "execution_count": 2,
   "metadata": {},
   "outputs": [
    {
     "name": "stderr",
     "output_type": "stream",
     "text": [
      " 34%|███▍      | 27/79 [02:13<04:16,  4.93s/it]\n"
     ]
    }
   ],
   "source": [
    "def load_pgn(file_path):\n",
    "    games = []\n",
    "    with open(file_path, 'r') as pgn_file:\n",
    "        while True:\n",
    "            game = pgn.read_game(pgn_file)\n",
    "            if game is None:\n",
    "                break\n",
    "            games.append(game)\n",
    "    return games\n",
    "\n",
    "files = [file for file in os.listdir(\"../data/pgn/\") if file.endswith(\".pgn\")]\n",
    "LIMIT_OF_FILES = min(len(files), 28)\n",
    "games = []\n",
    "i = 1\n",
    "\n",
    "for file in tqdm(files):\n",
    "    games.extend(load_pgn(f\"../data/pgn/{file}\"))\n",
    "    if i >= LIMIT_OF_FILES:\n",
    "        break\n",
    "    i += 1"
   ]
  },
  {
   "cell_type": "code",
   "execution_count": 3,
   "metadata": {},
   "outputs": [
    {
     "name": "stdout",
     "output_type": "stream",
     "text": [
      "GAMES PARSED: 41570\n"
     ]
    }
   ],
   "source": [
    "print(f\"GAMES PARSED: {len(games)}\")"
   ]
  },
  {
   "cell_type": "code",
   "execution_count": 4,
   "metadata": {},
   "outputs": [
    {
     "name": "stdout",
     "output_type": "stream",
     "text": [
      "2.0.0+cu118\n",
      "True\n"
     ]
    }
   ],
   "source": [
    "import torch\n",
    "print(torch.__version__)\n",
    "print(torch.cuda.is_available())\n"
   ]
  },
  {
   "cell_type": "markdown",
   "metadata": {},
   "source": [
    "##CONVIRTIENDO LOS DATOS EN TENSORES "
   ]
  },
  {
   "cell_type": "code",
   "execution_count": 5,
   "metadata": {},
   "outputs": [],
   "source": [
    "from Entrada import create_input_for_nn , encode_moves\n",
    "from Modelo import ChessModel\n",
    "from Dataset import ChessDataset\n",
    "\n"
   ]
  },
  {
   "cell_type": "code",
   "execution_count": 6,
   "metadata": {},
   "outputs": [],
   "source": [
    "# Funciones auxiliares\n",
    "def process_batch(games_batch):\n",
    "    X_batch, y_batch = create_input_for_nn(games_batch)\n",
    "    y_batch, move_to_int = encode_moves(y_batch)\n",
    "    return torch.tensor(X_batch, dtype=torch.float32), torch.tensor(y_batch, dtype=torch.long), move_to_int\n",
    "\n",
    "def load_games_in_batches(batch_size, total_games):\n",
    "    for i in range(0, total_games, batch_size):\n",
    "        yield games[i:i + batch_size]"
   ]
  },
  {
   "cell_type": "code",
   "execution_count": 7,
   "metadata": {},
   "outputs": [],
   "source": [
    "\n",
    "batch_size = 3000\n",
    "total_games = len(games)"
   ]
  },
  {
   "cell_type": "code",
   "execution_count": 8,
   "metadata": {},
   "outputs": [
    {
     "name": "stdout",
     "output_type": "stream",
     "text": [
      "Using device: cuda\n"
     ]
    }
   ],
   "source": [
    "device = torch.device(\"cuda\" if torch.cuda.is_available() else \"cpu\")\n",
    "print(f'Using device: {device}')\n",
    "\n",
    "sample_games = games[:batch_size]\n",
    "_, y_sample, move_to_int = process_batch(sample_games)\n",
    "num_classes = len(move_to_int)"
   ]
  },
  {
   "cell_type": "code",
   "execution_count": 9,
   "metadata": {},
   "outputs": [],
   "source": [
    "model = ChessModel(num_classes=num_classes).to(device)\n",
    "criterion = nn.CrossEntropyLoss()\n",
    "optimizer = optim.Adam(model.parameters(), lr=0.0001)"
   ]
  },
  {
   "cell_type": "code",
   "execution_count": 10,
   "metadata": {},
   "outputs": [
    {
     "ename": "KeyboardInterrupt",
     "evalue": "",
     "output_type": "error",
     "traceback": [
      "\u001b[1;31m---------------------------------------------------------------------------\u001b[0m",
      "\u001b[1;31mKeyboardInterrupt\u001b[0m                         Traceback (most recent call last)",
      "\u001b[1;32mc:\\Users\\Tiza\\Desktop\\Work\\Proyectos\\IA\\AlphaSJ\\Main(creo)\\Entranamiento.ipynb Cell 11\u001b[0m line \u001b[0;36m7\n\u001b[0;32m      <a href='vscode-notebook-cell:/c%3A/Users/Tiza/Desktop/Work/Proyectos/IA/AlphaSJ/Main%28creo%29/Entranamiento.ipynb#X13sZmlsZQ%3D%3D?line=4'>5</a>\u001b[0m running_loss \u001b[39m=\u001b[39m \u001b[39m0.0\u001b[39m\n\u001b[0;32m      <a href='vscode-notebook-cell:/c%3A/Users/Tiza/Desktop/Work/Proyectos/IA/AlphaSJ/Main%28creo%29/Entranamiento.ipynb#X13sZmlsZQ%3D%3D?line=5'>6</a>\u001b[0m \u001b[39mfor\u001b[39;00m games_batch \u001b[39min\u001b[39;00m load_games_in_batches(batch_size, total_games):\n\u001b[1;32m----> <a href='vscode-notebook-cell:/c%3A/Users/Tiza/Desktop/Work/Proyectos/IA/AlphaSJ/Main%28creo%29/Entranamiento.ipynb#X13sZmlsZQ%3D%3D?line=6'>7</a>\u001b[0m     X_batch, y_batch, move_to_int \u001b[39m=\u001b[39m process_batch(games_batch)\n\u001b[0;32m      <a href='vscode-notebook-cell:/c%3A/Users/Tiza/Desktop/Work/Proyectos/IA/AlphaSJ/Main%28creo%29/Entranamiento.ipynb#X13sZmlsZQ%3D%3D?line=8'>9</a>\u001b[0m     \u001b[39m# Create Dataset and DataLoader\u001b[39;00m\n\u001b[0;32m     <a href='vscode-notebook-cell:/c%3A/Users/Tiza/Desktop/Work/Proyectos/IA/AlphaSJ/Main%28creo%29/Entranamiento.ipynb#X13sZmlsZQ%3D%3D?line=9'>10</a>\u001b[0m     dataset \u001b[39m=\u001b[39m ChessDataset(X_batch, y_batch)\n",
      "\u001b[1;32mc:\\Users\\Tiza\\Desktop\\Work\\Proyectos\\IA\\AlphaSJ\\Main(creo)\\Entranamiento.ipynb Cell 11\u001b[0m line \u001b[0;36m3\n\u001b[0;32m      <a href='vscode-notebook-cell:/c%3A/Users/Tiza/Desktop/Work/Proyectos/IA/AlphaSJ/Main%28creo%29/Entranamiento.ipynb#X13sZmlsZQ%3D%3D?line=1'>2</a>\u001b[0m \u001b[39mdef\u001b[39;00m \u001b[39mprocess_batch\u001b[39m(games_batch):\n\u001b[1;32m----> <a href='vscode-notebook-cell:/c%3A/Users/Tiza/Desktop/Work/Proyectos/IA/AlphaSJ/Main%28creo%29/Entranamiento.ipynb#X13sZmlsZQ%3D%3D?line=2'>3</a>\u001b[0m     X_batch, y_batch \u001b[39m=\u001b[39m create_input_for_nn(games_batch)\n\u001b[0;32m      <a href='vscode-notebook-cell:/c%3A/Users/Tiza/Desktop/Work/Proyectos/IA/AlphaSJ/Main%28creo%29/Entranamiento.ipynb#X13sZmlsZQ%3D%3D?line=3'>4</a>\u001b[0m     y_batch, move_to_int \u001b[39m=\u001b[39m encode_moves(y_batch)\n\u001b[0;32m      <a href='vscode-notebook-cell:/c%3A/Users/Tiza/Desktop/Work/Proyectos/IA/AlphaSJ/Main%28creo%29/Entranamiento.ipynb#X13sZmlsZQ%3D%3D?line=4'>5</a>\u001b[0m     \u001b[39mreturn\u001b[39;00m torch\u001b[39m.\u001b[39mtensor(X_batch, dtype\u001b[39m=\u001b[39mtorch\u001b[39m.\u001b[39mfloat32), torch\u001b[39m.\u001b[39mtensor(y_batch, dtype\u001b[39m=\u001b[39mtorch\u001b[39m.\u001b[39mlong), move_to_int\n",
      "File \u001b[1;32mc:\\Users\\Tiza\\Desktop\\Work\\Proyectos\\IA\\AlphaSJ\\Main(creo)\\Entrada.py:94\u001b[0m, in \u001b[0;36mcreate_input_for_nn\u001b[1;34m(games)\u001b[0m\n\u001b[0;32m     92\u001b[0m board \u001b[39m=\u001b[39m game\u001b[39m.\u001b[39mboard()\n\u001b[0;32m     93\u001b[0m \u001b[39mfor\u001b[39;00m move \u001b[39min\u001b[39;00m game\u001b[39m.\u001b[39mmainline_moves():\n\u001b[1;32m---> 94\u001b[0m     X\u001b[39m.\u001b[39mappend(board_to_matrix(board))\n\u001b[0;32m     95\u001b[0m     y\u001b[39m.\u001b[39mappend(move\u001b[39m.\u001b[39muci())\n\u001b[0;32m     96\u001b[0m     board\u001b[39m.\u001b[39mpush(move)\n",
      "File \u001b[1;32mc:\\Users\\Tiza\\Desktop\\Work\\Proyectos\\IA\\AlphaSJ\\Main(creo)\\Entrada.py:59\u001b[0m, in \u001b[0;36mboard_to_matrix\u001b[1;34m(board)\u001b[0m\n\u001b[0;32m     58\u001b[0m \u001b[39mdef\u001b[39;00m \u001b[39mboard_to_matrix\u001b[39m(board):\n\u001b[1;32m---> 59\u001b[0m     matrix \u001b[39m=\u001b[39m np\u001b[39m.\u001b[39;49mzeros((\u001b[39m15\u001b[39;49m, \u001b[39m8\u001b[39;49m, \u001b[39m8\u001b[39;49m))  \u001b[39m# Cambiar a 15 canales para incluir los nuevos\u001b[39;00m\n\u001b[0;32m     61\u001b[0m     piece_map \u001b[39m=\u001b[39m board\u001b[39m.\u001b[39mpiece_map()\n\u001b[0;32m     63\u001b[0m     \u001b[39m# Canales 1-12: Piezas\u001b[39;00m\n",
      "\u001b[1;31mKeyboardInterrupt\u001b[0m: "
     ]
    }
   ],
   "source": [
    "num_epochs = 3\n",
    "for epoch in range(num_epochs):\n",
    "    start_time = time.time()\n",
    "    model.train()\n",
    "    running_loss = 0.0\n",
    "    for games_batch in load_games_in_batches(batch_size, total_games):\n",
    "        X_batch, y_batch, move_to_int = process_batch(games_batch)\n",
    "        \n",
    "        # Create Dataset and DataLoader\n",
    "        dataset = ChessDataset(X_batch, y_batch)\n",
    "        dataloader = DataLoader(dataset, batch_size=64, shuffle=True)\n",
    "\n",
    "        for inputs, labels in tqdm(dataloader):\n",
    "            inputs, labels = inputs.to(device), labels.to(device)  # Move data to GPU\n",
    "            optimizer.zero_grad()\n",
    "\n",
    "            outputs = model(inputs)  # Raw logits\n",
    "\n",
    "            # Compute loss\n",
    "            loss = criterion(outputs, labels)\n",
    "            loss.backward()\n",
    "\n",
    "            # Gradient clipping\n",
    "            torch.nn.utils.clip_grad_norm_(model.parameters(), max_norm=1.0)\n",
    "\n",
    "            optimizer.step()\n",
    "            running_loss += loss.item()\n",
    "\n",
    "    end_time = time.time()\n",
    "    epoch_time = end_time - start_time\n",
    "    minutes: int = int(epoch_time // 60)\n",
    "    seconds: int = int(epoch_time) - minutes * 60\n",
    "    print(f'Epoch {epoch + 1}/{num_epochs}, Loss: {running_loss / total_games:.4f}, Time: {minutes}m{seconds}s')"
   ]
  }
 ],
 "metadata": {
  "kernelspec": {
   "display_name": "Python 3",
   "language": "python",
   "name": "python3"
  },
  "language_info": {
   "codemirror_mode": {
    "name": "ipython",
    "version": 3
   },
   "file_extension": ".py",
   "mimetype": "text/x-python",
   "name": "python",
   "nbconvert_exporter": "python",
   "pygments_lexer": "ipython3",
   "version": "3.10.10"
  }
 },
 "nbformat": 4,
 "nbformat_minor": 2
}
